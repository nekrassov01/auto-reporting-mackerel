{
 "cells": [
  {
   "cell_type": "code",
   "execution_count": null,
   "metadata": {},
   "outputs": [],
   "source": [
    "import os, glob\n",
    "import datetime as dt\n",
    "import numpy as np\n",
    "import pandas as pd\n",
    "import matplotlib as mpl\n",
    "import matplotlib.pyplot as plt\n",
    "import matplotlib.dates as mdates\n",
    "import japanize_matplotlib\n",
    "import seaborn as sns\n",
    "\n",
    "# Drawing initialization\n",
    "pd.set_option('display.max_rows', None)\n",
    "pd.set_option('display.max_columns', None)\n",
    "mpl.rcParams['axes.xmargin'] = 0\n",
    "sns.set(font='IPAexGothic')"
   ]
  },
  {
   "cell_type": "code",
   "execution_count": null,
   "metadata": {},
   "outputs": [],
   "source": [
    "# Get the date and time use for aggregation\n",
    "now = dt.datetime.now()\n",
    "first_day_of_this_month = dt.datetime(now.year, now.month, 1)\n",
    "first_day_of_this_month = dt.datetime(2020, 11, 1)\n",
    "last_day_of_last_month = first_day_of_this_month + dt.timedelta(days=-1)\n",
    "first_day_of_last_month = dt.datetime(last_day_of_last_month.year, last_day_of_last_month.month, 1)\n",
    "\n",
    "# Header year and month\n",
    "yyyy = first_day_of_last_month.strftime('%Y')\n",
    "mm = first_day_of_last_month.strftime('%m')\n",
    "header = '{}-{}'.format(yyyy, mm)\n",
    "print(header)"
   ]
  },
  {
   "source": [
    "# Mackerel Report"
   ],
   "cell_type": "markdown",
   "metadata": {}
  },
  {
   "cell_type": "code",
   "execution_count": null,
   "metadata": {
    "tags": []
   },
   "outputs": [],
   "source": [
    "target_dir = os.path.join(os.getcwd(), 'data')\n",
    "yyyymm = first_day_of_last_month.strftime('%Y%m')\n",
    "file_list = glob.glob(target_dir + '\\\\{}\\\\*'.format(yyyymm))\n",
    "\n",
    "unit_list = []\n",
    "\n",
    "# Preprocessing: Generate a processing unit list unit to create a graph\n",
    "for file in file_list:\n",
    "\n",
    "    file_name = os.path.basename(file).split('.')\n",
    "\n",
    "    if 'filesystem' in file_name:\n",
    "        unit = '{}.{}.{}'.format(file_name[0], file_name[1], file_name[2])\n",
    "    else:\n",
    "        unit = '{}.{}'.format(file_name[0], file_name[1])\n",
    "\n",
    "    unit_list.append(unit)\n",
    "\n",
    "unit_list = sorted(list(set(unit_list)))\n",
    "\n",
    "# Main process: draw a graph for each unit\n",
    "for unit in unit_list:\n",
    "\n",
    "    fig = plt.figure(figsize=(30, 8))\n",
    "    ax = plt.subplot()\n",
    "    legend = []\n",
    "\n",
    "    unit_parts = unit.split('.')\n",
    "    if 'cpu' in unit_parts:\n",
    "        print('{} - {}'.format(unit_parts[0], unit_parts[1].upper()))\n",
    "    elif 'filesystem' in unit_parts:\n",
    "        print('{} - FileSystem {}:'.format(unit_parts[0], unit_parts[2]))\n",
    "    elif 'memory' in unit_parts:\n",
    "        print('{} - {}'.format(unit_parts[0], unit_parts[1].upper()))\n",
    "    \n",
    "    for file in file_list:\n",
    "\n",
    "        if unit in file:\n",
    "\n",
    "            df = pd.read_csv(file)\n",
    "            df['time'] = pd.to_datetime(df['time'].astype(int), unit='s')\n",
    "            df = df.set_index(['time'])\n",
    "            df = df.reindex(pd.date_range(first_day_of_last_month, first_day_of_this_month, freq=\"H\"))\n",
    "            df['value'] = df['value'].fillna(0)\n",
    "            if 'filesystem' in unit or 'memory' in unit:\n",
    "                df['value'] = df['value']/1024/1024/1024\n",
    "\n",
    "            x = df.index\n",
    "            y = df['value']\n",
    "            ax.plot(x, y, label=\"%\")\n",
    "\n",
    "            file_name = os.path.basename(file).split('.')\n",
    "\n",
    "            if 'filesystem' in file_name:\n",
    "                metrics = file_name[3]\n",
    "            else:\n",
    "                metrics = file_name[2]\n",
    "            \n",
    "            legend.append(metrics)\n",
    "\n",
    "    ax.set_title(unit)\n",
    "    ax.xaxis.set_major_formatter(mdates.DateFormatter('%m/%d'))\n",
    "    ax.xaxis.set_major_locator(mdates.DayLocator(interval=1))\n",
    "    plt.xticks(rotation=90)\n",
    "    if 'cpu' in unit:\n",
    "        plt.yticks(np.arange(0, 100 + 1, 10))\n",
    "        plt.ylabel(\"percentage\")\n",
    "    else:\n",
    "        plt.ylabel(\"GB\")\n",
    "    plt.legend(legend)\n",
    "    plt.subplots_adjust(left=0.10, right=0.95, top=0.90, bottom=0.15, wspace=0.50, hspace=0.00)\n",
    "    plt.show()\n",
    "    plt.close('all')\n",
    "\n",
    "    print('\\n')"
   ]
  },
  {
   "source": [
    "以上"
   ],
   "cell_type": "markdown",
   "metadata": {}
  }
 ],
 "metadata": {
  "language_info": {
   "codemirror_mode": {
    "name": "ipython",
    "version": 3
   },
   "file_extension": ".py",
   "mimetype": "text/x-python",
   "name": "python",
   "nbconvert_exporter": "python",
   "pygments_lexer": "ipython3",
   "version": "3.8.2"
  },
  "orig_nbformat": 2,
  "kernelspec": {
   "name": "python3",
   "display_name": "Python 3.8.2 64-bit",
   "metadata": {
    "interpreter": {
     "hash": "0bb06c46280e084b1dded3ea4c81baf235725990d8b1e14d6d9b93a05c13ec20"
    }
   }
  }
 },
 "nbformat": 4,
 "nbformat_minor": 2
}